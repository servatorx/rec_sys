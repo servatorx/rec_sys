{
 "cells": [
  {
   "cell_type": "markdown",
   "id": "07e19b1d",
   "metadata": {},
   "source": [
    "# Рекомендательные системы"
   ]
  },
  {
   "cell_type": "markdown",
   "id": "26aca38e",
   "metadata": {},
   "source": [
    "## Урок 4. Рекомендательные системы на основе контента"
   ]
  },
  {
   "cell_type": "markdown",
   "id": "17798a4d",
   "metadata": {},
   "source": [
    "## Практическое задание: написать заготовки функций"
   ]
  },
  {
   "cell_type": "code",
   "execution_count": 1,
   "id": "3516ebb2",
   "metadata": {},
   "outputs": [],
   "source": [
    "import pandas as pd\n",
    "import numpy as np\n",
    "from scipy.sparse import bsr_matrix"
   ]
  },
  {
   "cell_type": "code",
   "execution_count": 2,
   "id": "178e587f",
   "metadata": {},
   "outputs": [],
   "source": [
    "from implicit.bpr import BayesianPersonalizedRanking"
   ]
  },
  {
   "cell_type": "markdown",
   "id": "f33384c4",
   "metadata": {},
   "source": [
    "### Функция предварительной фильтрации"
   ]
  },
  {
   "cell_type": "code",
   "execution_count": 3,
   "id": "8600f1c6",
   "metadata": {},
   "outputs": [],
   "source": [
    "# Предполагаем, что на входе данные, как минимум,\n",
    "# со столбцами user_id, item_id, quantity, sales_value, week_no, commodity_desc\n",
    "def prefilter_items(data, prevalence_range = (0.05, 0.95)):\n",
    "    # Уберем самые популярные товары (их и так купят)\n",
    "    # Уберем также и непопулярные товары\n",
    "    # Отсечем товары, которые вместе дают по 5% от общего числа попадания товаров в корзину покупателя\n",
    "    # как со стороны популярных, так со стороны непопулярных товаров\n",
    "    pop_thr, unpop_thr = prevalence_range\n",
    "    item_cum_counts = data['item_id'].value_counts().cumsum()\n",
    "    max_count = item_cum_counts.values[-1]\n",
    "    top_popular_mask = item_cum_counts < max_count * pop_thr\n",
    "    top_uppopular_mask = item_cum_counts > max_count * unpop_thr\n",
    "    blocked_items = item_cum_counts[top_popular_mask | top_uppopular_mask].index\n",
    "    \n",
    "    # Уберем товары, которые не продавались за последние 12 месяцев\n",
    "    recent_sale_items = data['item_id'][data['week_no'] > data['week_no'].max() - 53]\n",
    "    old_sale_items = np.setdiff1d(data['item_id'], recent_sale_items)\n",
    "    blocked_items = np.union1d(blocked_items, old_sale_items)\n",
    "    \n",
    "    # Уберем не интересные для рекоммендаций категории (department)\n",
    "    # В данном датасете категория - commodity_desc, а не department\n",
    "    # Мы не можем исключать категории на базе результатов продаж или других метрик\n",
    "    # Префильтрация категорий - только на базе запроса бизнеса или legal\n",
    "    # Отфильтруем несколько категорий для примера\n",
    "    blocked_commodity = ['CIGARETTES', 'CIGARS', 'FAMILY PLANNING', 'LIQUOR', 'TOBACCO OTHER']\n",
    "    \n",
    "    # Уберем слишком дешевые товары (на них не заработаем). 1 покупка из рассылок стоит 60 руб.    \n",
    "    # Уберем слишком дорогие товары\n",
    "    # Желательно иметь данные о list price товара, попробуем косвенно оценить price по sales_value\n",
    "    min_price, max_price = 1.0, 100.0\n",
    "    bad_price_items = (\n",
    "        data\n",
    "        .assign(price = lambda x: np.where(x['quantity'] > 0, x['sales_value'] / x['quantity'], 0.0))\n",
    "        .groupby('item_id')\n",
    "        .agg(min_item_price=('price', 'min'), max_item_price=('price', 'max'))\n",
    "        .query(\"min_item_price >= @max_price or max_item_price <= @min_price\")\n",
    "        .index\n",
    "    )\n",
    "    blocked_items = np.union1d(blocked_items, bad_price_items)\n",
    "    \n",
    "    # ...\n",
    "    block_mask = (\n",
    "        np.isin(data['item_id'], blocked_items) |\n",
    "        np.isin(data['commodity_desc'], blocked_commodity)\n",
    "    )\n",
    "    result = data[~block_mask].copy()\n",
    "    return result"
   ]
  },
  {
   "cell_type": "markdown",
   "id": "a3be0c14",
   "metadata": {},
   "source": [
    "### Данные и модель\n",
    "\n",
    "Для тестирования работы других функций практической работы нужны подготовленные данные, матрица user/item и построенная модель"
   ]
  },
  {
   "cell_type": "code",
   "execution_count": 4,
   "id": "d84eb989",
   "metadata": {},
   "outputs": [],
   "source": [
    "TRANSACTION_DATA = \"../hw3/transaction_data_filtered.csv.zip\"\n",
    "PRODUCT_DATA = \"../hw2/product.csv\""
   ]
  },
  {
   "cell_type": "code",
   "execution_count": 5,
   "id": "8aedb64c",
   "metadata": {},
   "outputs": [],
   "source": [
    "def read_transform_csv(path, column_map={}, index=None):\n",
    "    column_names = pd.read_csv(path, nrows=0).columns\n",
    "    _column_map = {col: col.lower() for col in column_names}\n",
    "    _column_map.update(column_map)\n",
    "    _data = pd.read_csv(path).rename(columns=_column_map)\n",
    "    if index is not None:\n",
    "        return _data.set_index(index)    \n",
    "    return _data"
   ]
  },
  {
   "cell_type": "code",
   "execution_count": 6,
   "id": "cec674d1",
   "metadata": {},
   "outputs": [
    {
     "name": "stdout",
     "output_type": "stream",
     "text": [
      "Wall time: 5.15 s\n"
     ]
    }
   ],
   "source": [
    "%%time\n",
    "# ДАННЫЕ\n",
    "# product data\n",
    "item_features = read_transform_csv(PRODUCT_DATA, {'PRODUCT_ID': 'item_id'}, index='item_id')\n",
    "\n",
    "# transaction data\n",
    "merged_data = pd.merge(pd.read_csv(TRANSACTION_DATA), item_features, on='item_id')\n",
    "\n",
    "# prefiltered data\n",
    "required_columns = ['user_id', 'item_id', 'quantity', 'sales_value', 'week_no', 'department', 'commodity_desc']\n",
    "data = prefilter_items(merged_data.filter(required_columns))\n",
    "\n",
    "# train-test split\n",
    "test_size_weeks = 3\n",
    "data_train = data[data['week_no'] < data['week_no'].max() - test_size_weeks]\n",
    "data_test = data[data['week_no'] >= data['week_no'].max() - test_size_weeks]\n",
    "\n",
    "# Actual test items\n",
    "actual = data_test.groupby('user_id').agg(actual=('item_id', list))\n",
    "\n",
    "# Матрица USER/ITEM\n",
    "user_item_df = (\n",
    "    data_train\n",
    "    .groupby(['user_id', 'item_id'])\n",
    "    .agg({'quantity': 'count'})\n",
    "    .reset_index()\n",
    ")\n",
    "\n",
    "# Мапинг id <-> matrix index\n",
    "user_id_unique = user_item_df['user_id'].unique()  # index -> user id\n",
    "item_id_unique = user_item_df['item_id'].unique()  # index -> item id\n",
    "from_uid = {uid: i for i, uid in enumerate(user_id_unique)}  # user id -> index\n",
    "from_iid = {iid: i for i, iid in enumerate(item_id_unique)}  # item id -> index\n",
    "\n",
    "user_item_matrix = bsr_matrix(\n",
    "    (user_item_df['quantity'].astype(float),  # data\n",
    "     (user_item_df['user_id'].map(from_uid),  # row\n",
    "      user_item_df['item_id'].map(from_iid))),  # col\n",
    "    shape=(len(from_uid), len(from_iid)))\n",
    "\n",
    "sparse_user_item = user_item_matrix.tocsr()\n",
    "sparse_item_user = user_item_matrix.T.tocsr()"
   ]
  },
  {
   "cell_type": "code",
   "execution_count": 7,
   "id": "4cb51871",
   "metadata": {},
   "outputs": [
    {
     "data": {
      "text/plain": [
       "(92339, 25756)"
      ]
     },
     "execution_count": 7,
     "metadata": {},
     "output_type": "execute_result"
    }
   ],
   "source": [
    "merged_data.item_id.nunique(), data.item_id.nunique()"
   ]
  },
  {
   "cell_type": "code",
   "execution_count": 8,
   "id": "f4a55a43",
   "metadata": {},
   "outputs": [
    {
     "data": {
      "application/vnd.jupyter.widget-view+json": {
       "model_id": "73000de0cad941baae4f1088e2e7bc5f",
       "version_major": 2,
       "version_minor": 0
      },
      "text/plain": [
       "  0%|          | 0/25 [00:00<?, ?it/s]"
      ]
     },
     "metadata": {},
     "output_type": "display_data"
    },
    {
     "name": "stdout",
     "output_type": "stream",
     "text": [
      "Wall time: 8.55 s\n"
     ]
    }
   ],
   "source": [
    "%%time\n",
    "# МОДЕЛЬ\n",
    "model = BayesianPersonalizedRanking(factors=64, \n",
    "                                regularization=0.05,\n",
    "                                learning_rate=0.01,\n",
    "                                iterations=25, \n",
    "                                num_threads=4)\n",
    "\n",
    "model.fit(sparse_item_user, show_progress=True)"
   ]
  },
  {
   "cell_type": "code",
   "execution_count": 9,
   "id": "2df5a8a3",
   "metadata": {},
   "outputs": [
    {
     "data": {
      "text/plain": [
       "array(['PRODUCE', 'GROCERY', 'MEAT-PCKGD', 'DELI', 'SALAD BAR', 'DRUG GM',\n",
       "       'MEAT', 'PASTRY'], dtype=object)"
      ]
     },
     "execution_count": 9,
     "metadata": {},
     "output_type": "execute_result"
    }
   ],
   "source": [
    "# Посмотрим для примера покупки и рекомендации для одного клиента\n",
    "LOOKUP_UID = 1598\n",
    "# Продукты, которые покупал этот клиент\n",
    "actual_user_items = item_features.loc[actual.loc[LOOKUP_UID, 'actual']]\n",
    "# Покажем только уникальные разделы, в которых совершались покупки\n",
    "actual_user_items['department'].unique()"
   ]
  },
  {
   "cell_type": "code",
   "execution_count": 10,
   "id": "f440020f",
   "metadata": {},
   "outputs": [],
   "source": [
    "def get_similar_items_recommendation(user_items_interactions, model, all_item_ids, N=5):\n",
    "    \"\"\"Рекомендуем товары, похожие на топ-N купленных юзером товаров\"\"\"\n",
    "    \n",
    "    top_items = np.argsort(-user_items_interactions)[:N]\n",
    "    similar_items = [model.similar_items(itm)[1][0] for itm in top_items]\n",
    "    return all_item_ids[similar_items]"
   ]
  },
  {
   "cell_type": "code",
   "execution_count": 11,
   "id": "de013b15",
   "metadata": {},
   "outputs": [],
   "source": [
    "def get_user_item_matrix_row(user_idx, user_item_matrix):\n",
    "    return (\n",
    "        user_item_matrix\n",
    "        .tocsr()\n",
    "        .getrow(user_idx)\n",
    "        .toarray()\n",
    "        .flatten()\n",
    "    )"
   ]
  },
  {
   "cell_type": "code",
   "execution_count": 12,
   "id": "6622e8ad",
   "metadata": {},
   "outputs": [
    {
     "name": "stdout",
     "output_type": "stream",
     "text": [
      "Wall time: 44 ms\n"
     ]
    },
    {
     "data": {
      "text/html": [
       "<div>\n",
       "<style scoped>\n",
       "    .dataframe tbody tr th:only-of-type {\n",
       "        vertical-align: middle;\n",
       "    }\n",
       "\n",
       "    .dataframe tbody tr th {\n",
       "        vertical-align: top;\n",
       "    }\n",
       "\n",
       "    .dataframe thead th {\n",
       "        text-align: right;\n",
       "    }\n",
       "</style>\n",
       "<table border=\"1\" class=\"dataframe\">\n",
       "  <thead>\n",
       "    <tr style=\"text-align: right;\">\n",
       "      <th></th>\n",
       "      <th>manufacturer</th>\n",
       "      <th>department</th>\n",
       "      <th>brand</th>\n",
       "      <th>commodity_desc</th>\n",
       "      <th>sub_commodity_desc</th>\n",
       "      <th>curr_size_of_product</th>\n",
       "    </tr>\n",
       "    <tr>\n",
       "      <th>item_id</th>\n",
       "      <th></th>\n",
       "      <th></th>\n",
       "      <th></th>\n",
       "      <th></th>\n",
       "      <th></th>\n",
       "      <th></th>\n",
       "    </tr>\n",
       "  </thead>\n",
       "  <tbody>\n",
       "    <tr>\n",
       "      <th>1076056</th>\n",
       "      <td>5</td>\n",
       "      <td>GROCERY</td>\n",
       "      <td>Private</td>\n",
       "      <td>COUPON/MISC ITEMS</td>\n",
       "      <td>MISC SALES TRANS</td>\n",
       "      <td></td>\n",
       "    </tr>\n",
       "    <tr>\n",
       "      <th>1014948</th>\n",
       "      <td>69</td>\n",
       "      <td>PASTRY</td>\n",
       "      <td>Private</td>\n",
       "      <td>COOKIES</td>\n",
       "      <td>COOKIES: REGULAR</td>\n",
       "      <td></td>\n",
       "    </tr>\n",
       "    <tr>\n",
       "      <th>913785</th>\n",
       "      <td>131</td>\n",
       "      <td>GROCERY</td>\n",
       "      <td>National</td>\n",
       "      <td>CONDIMENTS/SAUCES</td>\n",
       "      <td>CATSUP</td>\n",
       "      <td>24 OZ</td>\n",
       "    </tr>\n",
       "    <tr>\n",
       "      <th>944317</th>\n",
       "      <td>1071</td>\n",
       "      <td>GROCERY</td>\n",
       "      <td>National</td>\n",
       "      <td>FROZEN PIZZA</td>\n",
       "      <td>SANDWICHES&amp;HANDHELDS</td>\n",
       "      <td>9 OZ</td>\n",
       "    </tr>\n",
       "    <tr>\n",
       "      <th>1004097</th>\n",
       "      <td>1107</td>\n",
       "      <td>MEAT-PCKGD</td>\n",
       "      <td>National</td>\n",
       "      <td>LUNCHMEAT</td>\n",
       "      <td>POULTRY</td>\n",
       "      <td>6 OZ</td>\n",
       "    </tr>\n",
       "  </tbody>\n",
       "</table>\n",
       "</div>"
      ],
      "text/plain": [
       "         manufacturer  department     brand     commodity_desc  \\\n",
       "item_id                                                          \n",
       "1076056             5     GROCERY   Private  COUPON/MISC ITEMS   \n",
       "1014948            69      PASTRY   Private            COOKIES   \n",
       "913785            131     GROCERY  National  CONDIMENTS/SAUCES   \n",
       "944317           1071     GROCERY  National       FROZEN PIZZA   \n",
       "1004097          1107  MEAT-PCKGD  National          LUNCHMEAT   \n",
       "\n",
       "           sub_commodity_desc curr_size_of_product  \n",
       "item_id                                             \n",
       "1076056      MISC SALES TRANS                       \n",
       "1014948      COOKIES: REGULAR                       \n",
       "913785                 CATSUP                24 OZ  \n",
       "944317   SANDWICHES&HANDHELDS                 9 OZ  \n",
       "1004097               POULTRY                 6 OZ  "
      ]
     },
     "execution_count": 12,
     "metadata": {},
     "output_type": "execute_result"
    }
   ],
   "source": [
    "%%time\n",
    "LOOKUP_UID = 1598\n",
    "user_items_interactions = get_user_item_matrix_row(from_uid[LOOKUP_UID], user_item_matrix)\n",
    "similar_items_rec = get_similar_items_recommendation(user_items_interactions, model, item_id_unique, 5)\n",
    "item_features.loc[similar_items_rec]"
   ]
  },
  {
   "cell_type": "code",
   "execution_count": 13,
   "id": "793d52c9",
   "metadata": {},
   "outputs": [],
   "source": [
    "def get_similar_users_recommendation(user_idx, model, all_item_ids, N=5):\n",
    "    \"\"\"Рекомендуем топ-N товаров, среди купленных похожими юзерами\"\"\"\n",
    "    \n",
    "    similar_users, similarity = zip(*model.similar_users(user_idx, N=N+1)[1:])\n",
    "    user_weights = np.array(similarity) / np.sum(similarity)\n",
    "    similar_recs = model.user_factors[similar_users, :] @ model.item_factors.T\n",
    "    return all_item_ids[np.argsort(-user_weights @ similar_recs)[:N]]"
   ]
  },
  {
   "cell_type": "code",
   "execution_count": 14,
   "id": "a701ac77",
   "metadata": {},
   "outputs": [
    {
     "name": "stdout",
     "output_type": "stream",
     "text": [
      "Wall time: 9.99 ms\n"
     ]
    },
    {
     "data": {
      "text/html": [
       "<div>\n",
       "<style scoped>\n",
       "    .dataframe tbody tr th:only-of-type {\n",
       "        vertical-align: middle;\n",
       "    }\n",
       "\n",
       "    .dataframe tbody tr th {\n",
       "        vertical-align: top;\n",
       "    }\n",
       "\n",
       "    .dataframe thead th {\n",
       "        text-align: right;\n",
       "    }\n",
       "</style>\n",
       "<table border=\"1\" class=\"dataframe\">\n",
       "  <thead>\n",
       "    <tr style=\"text-align: right;\">\n",
       "      <th></th>\n",
       "      <th>manufacturer</th>\n",
       "      <th>department</th>\n",
       "      <th>brand</th>\n",
       "      <th>commodity_desc</th>\n",
       "      <th>sub_commodity_desc</th>\n",
       "      <th>curr_size_of_product</th>\n",
       "    </tr>\n",
       "    <tr>\n",
       "      <th>item_id</th>\n",
       "      <th></th>\n",
       "      <th></th>\n",
       "      <th></th>\n",
       "      <th></th>\n",
       "      <th></th>\n",
       "      <th></th>\n",
       "    </tr>\n",
       "  </thead>\n",
       "  <tbody>\n",
       "    <tr>\n",
       "      <th>1098066</th>\n",
       "      <td>69</td>\n",
       "      <td>GROCERY</td>\n",
       "      <td>Private</td>\n",
       "      <td>BAKED BREAD/BUNS/ROLLS</td>\n",
       "      <td>HOT DOG BUNS</td>\n",
       "      <td>11 OZ</td>\n",
       "    </tr>\n",
       "    <tr>\n",
       "      <th>1044078</th>\n",
       "      <td>2845</td>\n",
       "      <td>MEAT</td>\n",
       "      <td>National</td>\n",
       "      <td>BEEF</td>\n",
       "      <td>LEAN</td>\n",
       "      <td></td>\n",
       "    </tr>\n",
       "    <tr>\n",
       "      <th>1004906</th>\n",
       "      <td>69</td>\n",
       "      <td>PRODUCE</td>\n",
       "      <td>Private</td>\n",
       "      <td>POTATOES</td>\n",
       "      <td>POTATOES RUSSET (BULK&amp;BAG)</td>\n",
       "      <td>5 LB</td>\n",
       "    </tr>\n",
       "    <tr>\n",
       "      <th>866211</th>\n",
       "      <td>2</td>\n",
       "      <td>PRODUCE</td>\n",
       "      <td>National</td>\n",
       "      <td>GRAPES</td>\n",
       "      <td>GRAPES WHITE</td>\n",
       "      <td>18 LB</td>\n",
       "    </tr>\n",
       "    <tr>\n",
       "      <th>1127831</th>\n",
       "      <td>5937</td>\n",
       "      <td>PRODUCE</td>\n",
       "      <td>National</td>\n",
       "      <td>BERRIES</td>\n",
       "      <td>STRAWBERRIES</td>\n",
       "      <td>16 OZ</td>\n",
       "    </tr>\n",
       "  </tbody>\n",
       "</table>\n",
       "</div>"
      ],
      "text/plain": [
       "         manufacturer department     brand          commodity_desc  \\\n",
       "item_id                                                              \n",
       "1098066            69    GROCERY   Private  BAKED BREAD/BUNS/ROLLS   \n",
       "1044078          2845       MEAT  National                    BEEF   \n",
       "1004906            69    PRODUCE   Private                POTATOES   \n",
       "866211              2    PRODUCE  National                  GRAPES   \n",
       "1127831          5937    PRODUCE  National                 BERRIES   \n",
       "\n",
       "                 sub_commodity_desc curr_size_of_product  \n",
       "item_id                                                   \n",
       "1098066                HOT DOG BUNS                11 OZ  \n",
       "1044078                        LEAN                       \n",
       "1004906  POTATOES RUSSET (BULK&BAG)                 5 LB  \n",
       "866211                 GRAPES WHITE                18 LB  \n",
       "1127831                STRAWBERRIES                16 OZ  "
      ]
     },
     "execution_count": 14,
     "metadata": {},
     "output_type": "execute_result"
    }
   ],
   "source": [
    "%%time\n",
    "similar_users_rec = get_similar_users_recommendation(from_uid[LOOKUP_UID], model, item_id_unique, 5)\n",
    "item_features.loc[similar_users_rec]"
   ]
  },
  {
   "cell_type": "markdown",
   "id": "732048a2",
   "metadata": {},
   "source": [
    "На первый взгляд рекомендации не выбиваются и круга привычных покупок пользователя."
   ]
  },
  {
   "cell_type": "code",
   "execution_count": null,
   "id": "05a21b1f",
   "metadata": {},
   "outputs": [],
   "source": []
  }
 ],
 "metadata": {
  "kernelspec": {
   "display_name": "Python 3 (ipykernel)",
   "language": "python",
   "name": "python3"
  },
  "language_info": {
   "codemirror_mode": {
    "name": "ipython",
    "version": 3
   },
   "file_extension": ".py",
   "mimetype": "text/x-python",
   "name": "python",
   "nbconvert_exporter": "python",
   "pygments_lexer": "ipython3",
   "version": "3.8.6"
  }
 },
 "nbformat": 4,
 "nbformat_minor": 5
}
